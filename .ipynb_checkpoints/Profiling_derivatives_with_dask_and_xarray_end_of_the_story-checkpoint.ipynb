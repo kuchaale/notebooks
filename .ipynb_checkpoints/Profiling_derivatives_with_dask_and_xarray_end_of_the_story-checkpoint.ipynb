{
 "cells": [
  {
   "cell_type": "markdown",
   "metadata": {},
   "source": [
    "# Computing spatial derivatives with dask vs xarray"
   ]
  },
  {
   "cell_type": "markdown",
   "metadata": {},
   "source": [
    "### Author \n",
    " - Julien Le Sommer, CNRS\n",
    "\n",
    "### Context\n",
    " - April 2016, preparatory work for [oocgcm](https://github.com/lesommer/oocgcm)\n",
    " - following the analysis published [in this first notebook](https://github.com/lesommer/notebooks/blob/master/Profiling_simple_derivative_computation_with_numpy_vs_dask_vs_xarray.ipynb) and and and [this second notebook](https://github.com/lesommer/notebooks/blob/master/More_profiling_of_dask_vs_xarray.ipynb), as discussed in this [thread](https://groups.google.com/forum/#!topic/xarray/TOX5BIc08WA)\n",
    " \n",
    "### Purpose\n",
    " - compare the execution speed for computing derivatives with xarray.DataArray and dask arrays. \n",
    "\n"
   ]
  },
  {
   "cell_type": "markdown",
   "metadata": {},
   "source": [
    "### Modules"
   ]
  },
  {
   "cell_type": "code",
   "execution_count": 1,
   "metadata": {
    "collapsed": false
   },
   "outputs": [],
   "source": [
    "#- import\n",
    "import numpy as np\n",
    "from netCDF4 import Dataset\n",
    "import dask.array as da\n",
    "import xarray as xr\n",
    "from contextlib import contextmanager\n",
    "import time"
   ]
  },
  {
   "cell_type": "code",
   "execution_count": 2,
   "metadata": {
    "collapsed": false
   },
   "outputs": [
    {
     "name": "stdout",
     "output_type": "stream",
     "text": [
      "dask version : 0.8.1\n",
      "xarray version : 0.7.2\n"
     ]
    }
   ],
   "source": [
    "#- print versions\n",
    "import dask \n",
    "print('dask version : ' + dask.__version__)\n",
    "print('xarray version : ' + xr.__version__)"
   ]
  },
  {
   "cell_type": "markdown",
   "metadata": {},
   "source": [
    "### Define the arrays"
   ]
  },
  {
   "cell_type": "markdown",
   "metadata": {},
   "source": [
    "#### Location of netcdf files"
   ]
  },
  {
   "cell_type": "code",
   "execution_count": 3,
   "metadata": {
    "collapsed": true
   },
   "outputs": [],
   "source": [
    "#- Medium size 2D dataset from NATL60 \n",
    "#  array shape is (1,3454,5422)\n",
    "file_2d_gridt = \"/Users/lesommer/data/NATL60/NATL60-MJM155-S/1d/2008/NATL60-MJM155_y2008m01.1d_BUOYANCYFLX.nc\"\n",
    "varname_2d = \"vosigma0\"\n",
    "file_2d_coord = \"/Users/lesommer/data/NATL60/NATL60-I/NATL60_coordinates_v4.nc\""
   ]
  },
  {
   "cell_type": "markdown",
   "metadata": {},
   "source": [
    "#### Size of the chunks "
   ]
  },
  {
   "cell_type": "code",
   "execution_count": 4,
   "metadata": {
    "collapsed": true
   },
   "outputs": [],
   "source": [
    "chunks2d = (1727,2711)\n",
    "xr_chunks2d = {'x': chunks2d[-1], 'y': chunks2d[-2]}"
   ]
  },
  {
   "cell_type": "markdown",
   "metadata": {},
   "source": [
    "#### Functions for defining dask arrays"
   ]
  },
  {
   "cell_type": "code",
   "execution_count": 5,
   "metadata": {
    "collapsed": true
   },
   "outputs": [],
   "source": [
    "#- dask from netcdf :  dachk\n",
    "def load_dachk(filename,varname,chunks,it=None):\n",
    "    d = Dataset(filename).variables[varname]\n",
    "    if it is None:\n",
    "        array = da.from_array(d, chunks=chunks)\n",
    "    else :\n",
    "        array = da.from_array(d, chunks=(1,)+ chunks)[it]\n",
    "    return array \n",
    "\n",
    "get_array2d_tgrid_dachk = lambda: load_dachk(file_2d_gridt,varname_2d,chunks2d,it=0)\n",
    "get_array2d_e1u_dachk   = lambda: load_dachk(file_2d_coord,\"e1u\",chunks2d)"
   ]
  },
  {
   "cell_type": "markdown",
   "metadata": {},
   "source": [
    "#### Functions for defining xarray.DataArray"
   ]
  },
  {
   "cell_type": "code",
   "execution_count": 6,
   "metadata": {
    "collapsed": true
   },
   "outputs": [],
   "source": [
    "#- xarray with chunks :  xachk\n",
    "def load_xachk(filename,varname,xr_chunks,it=None,decode_cf=True,engine='netcdf4',lock=False):\n",
    "    ds = xr.open_dataset(filename,chunks=xr_chunks,decode_cf=decode_cf,engine=engine,lock=lock)\n",
    "    if it is None:\n",
    "       array = ds.variables[varname]\n",
    "    else:\n",
    "       array = ds.variables[varname][it]\n",
    "    return array.chunk()\n",
    "\n",
    "get_array2d_tgrid_xachk           = lambda: load_xachk(file_2d_gridt,varname_2d,xr_chunks2d,it=0)\n",
    "get_array2d_e1u_xachk             = lambda: load_xachk(file_2d_coord,\"e1u\",xr_chunks2d)"
   ]
  },
  {
   "cell_type": "markdown",
   "metadata": {},
   "source": [
    "### Define the function that compute the x-derivative"
   ]
  },
  {
   "cell_type": "code",
   "execution_count": 7,
   "metadata": {
    "collapsed": false
   },
   "outputs": [],
   "source": [
    "#- Simple x-derivative function \n",
    "def derivative_da(array_tgrid,array_e1u,compute=True):\n",
    "    di = lambda t: (np.roll(t,-1,axis=-1) - t) \n",
    "    depth = {-1: 1, -2: 0, -3:0}\n",
    "    d = array_tgrid.map_overlap(di,depth=depth,boundary=0)\n",
    "    if compute:\n",
    "        return np.asarray(  (d / array_e1u ).compute() )\n",
    "    else:\n",
    "        return d / array_e1u\n",
    "\n",
    "def derivative_xa(array_tgrid,array_e1u, compute=True):\n",
    "    if compute:\n",
    "        return np.asarray((array_tgrid.shift(x=-1) - array_tgrid) / array_e1u)\n",
    "    else:\n",
    "        return (array_tgrid.shift(x=-1) - array_tgrid) / array_e1u\n",
    "\n",
    "def derivative_xa_as_da(array_tgrid,array_e1u,compute=True):\n",
    "    return derivative_da(array_tgrid.data,array_e1u.data,compute=compute)\n"
   ]
  },
  {
   "cell_type": "markdown",
   "metadata": {},
   "source": [
    "### Profiling tools"
   ]
  },
  {
   "cell_type": "code",
   "execution_count": 8,
   "metadata": {
    "collapsed": false
   },
   "outputs": [],
   "source": [
    "@contextmanager\n",
    "def timeit_context(name):\n",
    "    startTime = time.time()\n",
    "    yield\n",
    "    elapsedTime = time.time() - startTime\n",
    "    print('{} takes {} ms'.format(name, int(elapsedTime * 1000))+'\\n')"
   ]
  },
  {
   "cell_type": "code",
   "execution_count": 9,
   "metadata": {
    "collapsed": false
   },
   "outputs": [],
   "source": [
    "def derivative_profile_context(func_get_array_gridt,func_get_array_e1u,compute_func): \n",
    "    \"Simple profiling function\"\n",
    "    with timeit_context('creating tgrid array'):\n",
    "        array_tgrid = func_get_array_gridt()\n",
    "    with timeit_context('creating e1u array'):\n",
    "        array_e1u  = func_get_array_e1u()\n",
    "    with timeit_context('computing x-derivative'):\n",
    "        gx = compute_func(array_tgrid, array_e1u)\n",
    "    print('output array is a ' + str(type(gx)))"
   ]
  },
  {
   "cell_type": "markdown",
   "metadata": {},
   "source": [
    "### pure dask array implementation\n"
   ]
  },
  {
   "cell_type": "code",
   "execution_count": 10,
   "metadata": {
    "collapsed": false
   },
   "outputs": [
    {
     "name": "stdout",
     "output_type": "stream",
     "text": [
      "creating tgrid array takes 3 ms\n",
      "\n",
      "creating e1u array takes 1 ms\n",
      "\n",
      "computing x-derivative takes 924 ms\n",
      "\n",
      "output array is a <type 'numpy.ndarray'>\n"
     ]
    }
   ],
   "source": [
    "# dask (netcdf with chunk) / dask (netcdf with chunk) \n",
    "derivative_profile_context(get_array2d_tgrid_dachk,get_array2d_e1u_dachk,derivative_da)"
   ]
  },
  {
   "cell_type": "markdown",
   "metadata": {},
   "source": [
    "### pure xarray implementation"
   ]
  },
  {
   "cell_type": "code",
   "execution_count": 11,
   "metadata": {
    "collapsed": false
   },
   "outputs": [
    {
     "name": "stdout",
     "output_type": "stream",
     "text": [
      "creating tgrid array takes 12 ms\n",
      "\n",
      "creating e1u array takes 17 ms\n",
      "\n",
      "computing x-derivative takes 782 ms\n",
      "\n",
      "output array is a <type 'numpy.ndarray'>\n"
     ]
    }
   ],
   "source": [
    "# xarray (with chunk) / xarray (with chunk) \n",
    "derivative_profile_context(get_array2d_tgrid_xachk,get_array2d_e1u_xachk,derivative_xa)"
   ]
  },
  {
   "cell_type": "markdown",
   "metadata": {},
   "source": [
    "### mixed xarray dask implementation"
   ]
  },
  {
   "cell_type": "code",
   "execution_count": 12,
   "metadata": {
    "collapsed": false
   },
   "outputs": [
    {
     "name": "stdout",
     "output_type": "stream",
     "text": [
      "creating tgrid array takes 9 ms\n",
      "\n",
      "creating e1u array takes 14 ms\n",
      "\n",
      "computing x-derivative takes 1032 ms\n",
      "\n",
      "output array is a <type 'numpy.ndarray'>\n"
     ]
    }
   ],
   "source": [
    "# xarray (with chunk) / xarray (with chunk) (derivative as for dask array)\n",
    "derivative_profile_context(get_array2d_tgrid_xachk,get_array2d_e1u_xachk,derivative_xa_as_da)"
   ]
  },
  {
   "cell_type": "code",
   "execution_count": null,
   "metadata": {
    "collapsed": true
   },
   "outputs": [],
   "source": []
  }
 ],
 "metadata": {
  "kernelspec": {
   "display_name": "Python 2",
   "language": "python",
   "name": "python2"
  },
  "language_info": {
   "codemirror_mode": {
    "name": "ipython",
    "version": 2
   },
   "file_extension": ".py",
   "mimetype": "text/x-python",
   "name": "python",
   "nbconvert_exporter": "python",
   "pygments_lexer": "ipython2",
   "version": "2.7.3"
  }
 },
 "nbformat": 4,
 "nbformat_minor": 0
}
