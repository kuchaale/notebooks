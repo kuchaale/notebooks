{
 "cells": [
  {
   "cell_type": "markdown",
   "metadata": {},
   "source": [
    "# Creating NEMO files for unit test of grid object in oocgcm. \n",
    "\n",
    " - **author** : Julien Le Sommer, CNRS\n",
    " - **date** : May 2016\n",
    " - **purpose** : create lightweight NEMO-like byte_mask and mesh_hgr files for oocgcm. \n",
    " - **method** : use ocgcm.griddeddata.grids. (caution : oocgcm returns only 2d grids but reads from 3d byte_mask array...)\n",
    " - **status** : works but the output files still lack some metadata.\n",
    " - **remark** : the creation of grid object from NEMO files is too sensitive to the detail of the presence of the time dimension. "
   ]
  },
  {
   "cell_type": "markdown",
   "metadata": {},
   "source": [
    "### Parameters"
   ]
  },
  {
   "cell_type": "code",
   "execution_count": 1,
   "metadata": {
    "collapsed": true
   },
   "outputs": [],
   "source": [
    "coordfile = '/Users/lesommer/tmp/nemo-oocgcm-testdata_coordinates.nc'\n",
    "maskfile = '/Users/lesommer/tmp/nemo-oocgcm-testdata_byte_mask.nc'\n",
    "#resolution = 0.04\n",
    "jpi=50\n",
    "jpj=40\n",
    "jpk=3"
   ]
  },
  {
   "cell_type": "markdown",
   "metadata": {},
   "source": [
    "### Creates the arrays"
   ]
  },
  {
   "cell_type": "code",
   "execution_count": 2,
   "metadata": {
    "collapsed": false
   },
   "outputs": [],
   "source": [
    "#- imports\n",
    "import numpy as np\n",
    "import matplotlib.pyplot as plt\n",
    "%matplotlib inline\n",
    "import xarray as xr\n",
    "from oocgcm.griddeddata import grids as agrids\n",
    "from oocgcm.oceanmodels.nemo import grids as fgrids\n",
    "#- import nemo dictionnary of variables \n",
    "from oocgcm.oceanmodels.nemo.grids import _nemo_keymap_projection_coordinates\n",
    "from oocgcm.oceanmodels.nemo.grids import  _nemo_keymap_horizontal_metrics\n",
    "from oocgcm.oceanmodels.nemo.grids import  _nemo_keymap_byte_mask"
   ]
  },
  {
   "cell_type": "code",
   "execution_count": 3,
   "metadata": {
    "collapsed": false
   },
   "outputs": [],
   "source": [
    "#- creates the grid\n",
    "#lon = np.arange(start=-20, stop=0, step=resolution,dtype=float)\n",
    "#lat = np.arange(start=30, stop=48, step=resolution,dtype=float)\n",
    "lon = np.linspace(-20,0,jpi)\n",
    "lat = np.linspace(30,48,jpj)\n",
    "lon2d,lat2d = np.meshgrid(lon,lat)"
   ]
  },
  {
   "cell_type": "code",
   "execution_count": 4,
   "metadata": {
    "collapsed": false
   },
   "outputs": [
    {
     "name": "stderr",
     "output_type": "stream",
     "text": [
      "/Users/lesommer/Library/Enthought/Canopy_64bit/User/lib/python2.7/site-packages/ipykernel-4.3.1-py2.7.egg/ipykernel/__main__.py:3: DeprecationWarning: numpy boolean subtract, the `-` operator, is deprecated, use the bitwise_xor, the `^` operator, or the logical_xor function instead.\n",
      "  app.launch_new_instance()\n"
     ]
    }
   ],
   "source": [
    "#- defines the mask\n",
    "_mask = (lon2d>-15) * (lon2d<-12) * (lat2d>38) * (lat2d<40) \\\n",
    "      + (lon2d>-13) * (lon2d<-12) * (lat2d>40) * (lat2d<44) \\\n",
    "      + (lon2d>-6) * (lon2d<-5) * (lat2d>32) * (lat2d<33) \\\n",
    "      + (lon2d<-19.) \\\n",
    "      + (lat2d> 47.)\n",
    "tmask = np.array(True - _mask,dtype=float)\n",
    "#plt.pcolormesh(lon2d,lat2d,tmask)"
   ]
  },
  {
   "cell_type": "code",
   "execution_count": 5,
   "metadata": {
    "collapsed": false
   },
   "outputs": [
    {
     "data": {
      "text/plain": [
       "<matplotlib.collections.QuadMesh at 0x109622ad0>"
      ]
     },
     "execution_count": 5,
     "metadata": {},
     "output_type": "execute_result"
    },
    {
     "name": "stderr",
     "output_type": "stream",
     "text": [
      "/Users/lesommer/Library/Enthought/Canopy_64bit/User/lib/python2.7/site-packages/matplotlib/collections.py:548: FutureWarning: elementwise comparison failed; returning scalar instead, but in the future will perform elementwise comparison\n",
      "  if self._edgecolors == 'face':\n"
     ]
    },
    {
     "data": {
      "image/png": "[encoded data removed]",
      "text/plain": [
       "<matplotlib.figure.Figure at 0x109683cd0>"
      ]
     },
     "metadata": {},
     "output_type": "display_data"
    }
   ],
   "source": [
    "agrd = agrids.latlon_2d_grid(latitudes=lat2d,longitudes=lon2d,mask=tmask)\n",
    "agrd.arrays['sea_binary_mask_at_t_location'].plot()"
   ]
  },
  {
   "cell_type": "code",
   "execution_count": 6,
   "metadata": {
    "collapsed": false
   },
   "outputs": [],
   "source": [
    "#- remove indication of grid_location for netCDF file\n",
    "del agrd.arrays['projection_x_coordinate_at_t_location'].attrs['grid_location']\n",
    "del agrd.arrays['projection_y_coordinate_at_t_location'].attrs['grid_location']"
   ]
  },
  {
   "cell_type": "markdown",
   "metadata": {},
   "source": [
    "### Writes  \"nemo-oocgcm-testdata_byte_mask.nc\" and \"nemo-oocgcm-testdata_coordinates.nc\"\n"
   ]
  },
  {
   "cell_type": "code",
   "execution_count": 7,
   "metadata": {
    "collapsed": false
   },
   "outputs": [],
   "source": [
    "_nemo_keymap_coordinates = dict(_nemo_keymap_projection_coordinates.items() + _nemo_keymap_horizontal_metrics.items())"
   ]
  },
  {
   "cell_type": "code",
   "execution_count": 8,
   "metadata": {
    "collapsed": false,
    "scrolled": true
   },
   "outputs": [
    {
     "name": "stdout",
     "output_type": "stream",
     "text": [
      "nemo name 'e2t' corresponds to standart name 'cell_y_size_at_t_location'\n",
      "nemo name 'e2u' corresponds to standart name 'cell_y_size_at_u_location'\n",
      "nemo name 'e2v' corresponds to standart name 'cell_y_size_at_v_location'\n",
      "nemo name 'nav_lat' corresponds to standart name 'projection_y_coordinate_at_t_location'\n",
      "nemo name 'e1u' corresponds to standart name 'cell_x_size_at_u_location'\n",
      "nemo name 'e2f' corresponds to standart name 'cell_y_size_at_f_location'\n",
      "nemo name 'e1t' corresponds to standart name 'cell_x_size_at_t_location'\n",
      "nemo name 'nav_lon' corresponds to standart name 'projection_x_coordinate_at_t_location'\n",
      "nemo name 'e1v' corresponds to standart name 'cell_x_size_at_v_location'\n",
      "nemo name 'e1f' corresponds to standart name 'cell_x_size_at_f_location'\n"
     ]
    }
   ],
   "source": [
    "for nemoname,stdname in _nemo_keymap_coordinates.iteritems():\n",
    "    print \"nemo name '\" + nemoname + \"' corresponds to standart name '\" + stdname + \"'\""
   ]
  },
  {
   "cell_type": "code",
   "execution_count": 9,
   "metadata": {
    "collapsed": false
   },
   "outputs": [],
   "source": [
    "#- creates the Dataset of coordinates\n",
    "coordinates_dict = dict([(nemoname,agrd.arrays[stdname]) for nemoname,stdname in _nemo_keymap_coordinates.iteritems()])\n",
    "coordinates_dataset = xr.Dataset(coordinates_dict)\n",
    "coordinates_dataset.attrs['history'] = \"\"\"Demonstration NEMO-like coordinate file.\"\"\"\n",
    "coordinates_dataset.to_netcdf(coordfile,format='NETCDF3_CLASSIC')"
   ]
  },
  {
   "cell_type": "code",
   "execution_count": 10,
   "metadata": {
    "collapsed": false
   },
   "outputs": [],
   "source": [
    "def expand3d(dataarray):\n",
    "    array = np.array(dataarray.to_masked_array())\n",
    "    rsh = array.reshape((1,jpj,jpi)).repeat(jpk,axis=-3).reshape((jpk,jpj,jpi))\n",
    "    return xr.DataArray(rsh,dims=['z','y','x'])\n",
    "\n",
    "byte_mask_dict = dict([(nemoname,expand3d(agrd.arrays[stdname])) \\\n",
    "                       for nemoname,stdname in _nemo_keymap_byte_mask.iteritems()])\n",
    "bytemask_dataset = xr.Dataset(byte_mask_dict)\n",
    "bytemask_dataset.attrs['history'] = \"\"\"Demonstration NEMO-like byte_mask file.\"\"\"\n",
    "bytemask_dataset.to_netcdf(maskfile,format='NETCDF3_CLASSIC')"
   ]
  },
  {
   "cell_type": "markdown",
   "metadata": {},
   "source": [
    "### Test the creation of a grid object from the two files "
   ]
  },
  {
   "cell_type": "code",
   "execution_count": 11,
   "metadata": {
    "collapsed": false
   },
   "outputs": [],
   "source": [
    "#chunk_size = {'z':3,'y':20,'x':20}\n",
    "fgrd =  fgrids.nemo_2d_grid(nemo_coordinate_file=coordfile,nemo_byte_mask_file=maskfile)#,chunks=chunk_size)"
   ]
  },
  {
   "cell_type": "code",
   "execution_count": 12,
   "metadata": {
    "collapsed": false
   },
   "outputs": [
    {
     "data": {
      "text/plain": [
       "<matplotlib.collections.QuadMesh at 0x10960af90>"
      ]
     },
     "execution_count": 12,
     "metadata": {},
     "output_type": "execute_result"
    },
    {
     "data": {
      "image/png": "[encoded data removed]",
      "text/plain": [
       "<matplotlib.figure.Figure at 0x10a2aeed0>"
      ]
     },
     "metadata": {},
     "output_type": "display_data"
    }
   ],
   "source": [
    "fgrd.arrays['sea_binary_mask_at_t_location'].plot()"
   ]
  },
  {
   "cell_type": "code",
   "execution_count": null,
   "metadata": {
    "collapsed": true
   },
   "outputs": [],
   "source": []
  }
 ],
 "metadata": {
  "kernelspec": {
   "display_name": "Python 2",
   "language": "python",
   "name": "python2"
  },
  "language_info": {
   "codemirror_mode": {
    "name": "ipython",
    "version": 2
   },
   "file_extension": ".py",
   "mimetype": "text/x-python",
   "name": "python",
   "nbconvert_exporter": "python",
   "pygments_lexer": "ipython2",
   "version": "2.7.11"
  },
  "widgets": {
   "state": {},
   "version": "1.1.2"
  }
 },
 "nbformat": 4,
 "nbformat_minor": 0
}
