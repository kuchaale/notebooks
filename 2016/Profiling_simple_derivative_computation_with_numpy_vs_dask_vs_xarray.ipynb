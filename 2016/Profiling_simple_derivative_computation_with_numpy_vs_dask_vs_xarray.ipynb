{
 "cells": [
  {
   "cell_type": "markdown",
   "metadata": {},
   "source": [
    "# Profiling computation of derivatives with numpy vs dask vs xarray"
   ]
  },
  {
   "cell_type": "markdown",
   "metadata": {},
   "source": [
    "### Author \n",
    " - Julien Le Sommer, CNRS\n",
    "\n",
    "### Context\n",
    " - April 2016, preparatory work for designing modelgrids grids in [oocgcm](https://github.com/lesommer/oocgcm)\n",
    " \n",
    "### Purpose\n",
    " - compare the execution speed for computing derivatives with several types and combination of arrays \n",
    "\n",
    "### Types of array to consider \n",
    " - **np** : numpy arrays\n",
    " - **da** : dask arrays build from netCDF4.Dataset without chunks \n",
    " - **xa** : xarray arrays without chunks \n",
    " - **dachk** : dask arrays build from netCDF4.Dataset with chunks\n",
    " - **danpchk** : dask arrays built from numpy array with chunks\n",
    " - **xachk** : xarray arrays with chunks\n",
    "\n",
    "### Combination to test\n",
    " array tgrid / array e1u : \n",
    "  - [x]  np/np\n",
    "  - [x] danpchk /danpchk\n",
    "  - [x] dachk/dachk\n",
    "  - [x] dachk/danpchk\n",
    "  - [x] xachk /xachk\n",
    "\n",
    "\n",
    "### Useful resource\n",
    "http://nbviewer.jupyter.org/gist/rabernat/3e2c3645d4666674cf2b"
   ]
  },
  {
   "cell_type": "markdown",
   "metadata": {},
   "source": [
    "### Modules"
   ]
  },
  {
   "cell_type": "code",
   "execution_count": 1,
   "metadata": {
    "collapsed": false
   },
   "outputs": [],
   "source": [
    "#- import\n",
    "import numpy as np\n",
    "from netCDF4 import Dataset\n",
    "import dask.array as da\n",
    "import xarray as xr\n",
    "from contextlib import contextmanager\n",
    "import time"
   ]
  },
  {
   "cell_type": "code",
   "execution_count": 2,
   "metadata": {
    "collapsed": false
   },
   "outputs": [
    {
     "name": "stdout",
     "output_type": "stream",
     "text": [
      "dask version : 0.8.1\n",
      "xarray version : 0.7.1\n"
     ]
    }
   ],
   "source": [
    "#- print versions\n",
    "import dask \n",
    "print('dask version : ' + dask.__version__)\n",
    "print('xarray version : ' + xr.__version__)"
   ]
  },
  {
   "cell_type": "code",
   "execution_count": 3,
   "metadata": {
    "collapsed": true
   },
   "outputs": [],
   "source": [
    "from dask.cache import Cache\n",
    "cache = Cache(2e9)  # Leverage two gigabytes of memory\n",
    "cache.register()    # Turn cache on globally"
   ]
  },
  {
   "cell_type": "markdown",
   "metadata": {},
   "source": [
    "### Define the arrays"
   ]
  },
  {
   "cell_type": "markdown",
   "metadata": {},
   "source": [
    "#### Size of chunks "
   ]
  },
  {
   "cell_type": "code",
   "execution_count": 4,
   "metadata": {
    "collapsed": true
   },
   "outputs": [],
   "source": [
    "# for 2D-arrays\n",
    "chunks2d = (1727,2711)\n",
    "xr_chunks2d = {'x': chunks2d[-1], 'y': chunks2d[-2]}\n",
    "\n",
    "# for 2D-arrays\n",
    "#chunks3d = (50,378,516)\n",
    "chunks3d = (25,756,1032)\n",
    "xr_chunks3d_nodep = {'x': chunks3d[-1], 'y': chunks3d[-2]}\n",
    "xr_chunks3d = {'x': chunks3d[-1], 'y': chunks3d[-2],'deptht':chunks3d[-3]}"
   ]
  },
  {
   "cell_type": "markdown",
   "metadata": {},
   "source": [
    "#### Location of netcdf files"
   ]
  },
  {
   "cell_type": "code",
   "execution_count": 5,
   "metadata": {
    "collapsed": true
   },
   "outputs": [],
   "source": [
    "#- medium size 3D dataset from NATL60\n",
    "#  array shape is (300,756,1032)\n",
    "file_3d_gridt = \"/Users/lesommer/data/NATL60/NATL60-MJM155-S/1d/2008/NATL60LMX-MJM155_y2008m03d15.1d_gridT.nc\"\n",
    "varname_3d = \"votemper\"\n",
    "file_3d_coord = \"/Users/lesommer/data/NATL60/NATL60-I/BOXES/NATL60LMX_coordinates_v4.nc\""
   ]
  },
  {
   "cell_type": "code",
   "execution_count": 6,
   "metadata": {
    "collapsed": true
   },
   "outputs": [],
   "source": [
    "#- Medium size 2D dataset from NATL60 \n",
    "#  array shape is (1,3454,5422)\n",
    "file_2d_gridt = \"/Users/lesommer/data/NATL60/NATL60-MJM155-S/1d/2008/NATL60-MJM155_y2008m01.1d_BUOYANCYFLX.nc\"\n",
    "varname_2d = \"vosigma0\"\n",
    "file_2d_coord = \"/Users/lesommer/data/NATL60/NATL60-I/NATL60_coordinates_v4.nc\""
   ]
  },
  {
   "cell_type": "markdown",
   "metadata": {},
   "source": [
    "#### Buid the arrays"
   ]
  },
  {
   "cell_type": "code",
   "execution_count": 7,
   "metadata": {
    "collapsed": false
   },
   "outputs": [],
   "source": [
    "verbose = True\n",
    "def verbose_loading(filename,varname,array):\n",
    "    print('loading from file ' + filename.split('/')[-1])\n",
    "    print('    variable : ' + varname +  ', returned shape : ' + str(array.shape) )"
   ]
  },
  {
   "cell_type": "code",
   "execution_count": 8,
   "metadata": {
    "collapsed": false
   },
   "outputs": [],
   "source": [
    "#- numpy : np\n",
    "def load_numpy(filename,varname,it=None):\n",
    "    if it is None:\n",
    "        out =  Dataset(filename).variables[varname][:].squeeze() \n",
    "    else: \n",
    "        out =  Dataset(filename).variables[varname][it][:].squeeze()\n",
    "    if verbose: verbose_loading(filename,varname,out)\n",
    "    return out\n",
    "\n",
    "def get_array2d_tgrid_numpy():\n",
    "    array_tgrid = load_numpy(file_2d_gridt,varname_2d,it=0)\n",
    "    return array_tgrid\n",
    "\n",
    "def get_array2d_e1u_numpy():\n",
    "    array_e1u = load_numpy(file_2d_coord,\"e1u\")\n",
    "    return array_e1u\n",
    "\n",
    "def get_array3d_tgrid_numpy():\n",
    "    array_tgrid = load_numpy(file_3d_gridt,varname_3d,it=0)\n",
    "    return array_tgrid\n",
    "\n",
    "def get_array3d_e1u_numpy():\n",
    "    array_e1u = load_numpy(file_3d_coord,\"e1u\")\n",
    "    return array_e1u"
   ]
  },
  {
   "cell_type": "code",
   "execution_count": 9,
   "metadata": {
    "collapsed": true
   },
   "outputs": [],
   "source": [
    "#- dask from numpy : danpchk\n",
    "def load_danpchk(filename,varname,chunks,it=None):\n",
    "    if it is None:\n",
    "        d = Dataset(filename).variables[varname][:].squeeze()\n",
    "    else :\n",
    "        d = Dataset(filename).variables[varname][it][:].squeeze()\n",
    "    array = da.from_array(np.array(d), chunks=chunks)\n",
    "    if verbose: verbose_loading(filename,varname,array)\n",
    "    return array \n",
    "\n",
    "def get_array2d_tgrid_danpchk():\n",
    "    array_tgrid = load_danpchk(file_2d_gridt,varname_2d,chunks2d,it=0)\n",
    "    return array_tgrid\n",
    "\n",
    "def get_array2d_e1u_danpchk():\n",
    "    array_e1u = load_danpchk(file_2d_coord,\"e1u\",chunks2d)\n",
    "    return array_e1u\n",
    "\n",
    "def get_array3d_tgrid_danpchk():\n",
    "    array_tgrid = load_danpchk(file_3d_gridt,varname_3d,chunks3d,it=0)\n",
    "    return array_tgrid\n",
    "\n",
    "def get_array3d_e1u_danpchk():\n",
    "    array_e1u = load_danpchk(file_3d_coord,\"e1u\",chunks3d)\n",
    "    return array_e1u\n"
   ]
  },
  {
   "cell_type": "code",
   "execution_count": 10,
   "metadata": {
    "collapsed": true
   },
   "outputs": [],
   "source": [
    "#- dask from netcdf :  dachk\n",
    "def load_dachk(filename,varname,chunks,it=None):\n",
    "    d = Dataset(filename).variables[varname]\n",
    "    if it is None:\n",
    "        array = da.from_array(d, chunks=chunks)\n",
    "    else :\n",
    "        array = da.from_array(d, chunks=(1,)+ chunks)[it]\n",
    "    if verbose: verbose_loading(filename,varname,array)\n",
    "    return array \n",
    "\n",
    "def get_array2d_tgrid_dachk():\n",
    "    array_tgrid = load_dachk(file_2d_gridt,varname_2d,chunks2d,it=0)\n",
    "    return array_tgrid\n",
    "\n",
    "def get_array2d_e1u_dachk():\n",
    "    array_e1u = load_dachk(file_2d_coord,\"e1u\",chunks2d)\n",
    "    return array_e1u\n",
    "\n",
    "def get_array3d_tgrid_dachk():\n",
    "    array_tgrid = load_dachk(file_3d_gridt,varname_3d,chunks3d,it=0)\n",
    "    return array_tgrid\n",
    "\n",
    "def get_array3d_e1u_dachk():\n",
    "    array_e1u = load_dachk(file_3d_coord,\"e1u\",chunks3d)\n",
    "    return array_e1u\n"
   ]
  },
  {
   "cell_type": "code",
   "execution_count": 11,
   "metadata": {
    "collapsed": true
   },
   "outputs": [],
   "source": [
    "#- xarray with chunks :  xachk\n",
    "def load_xachk(filename,varname,xr_chunks,it=None):\n",
    "    ds = xr.open_dataset(filename,chunks=xr_chunks)\n",
    "    if it is None:\n",
    "       array = ds.variables[varname]\n",
    "    else:\n",
    "        array = ds.variables[varname][it]\n",
    "    if verbose: verbose_loading(filename,varname,array)\n",
    "    return array.chunk(lock=True)\n",
    "\n",
    "def get_array2d_tgrid_xachk():\n",
    "    array_tgrid = load_xachk(file_2d_gridt,varname_2d,xr_chunks2d,it=0)\n",
    "    return array_tgrid\n",
    "\n",
    "def get_array2d_e1u_xachk():\n",
    "    array_e1u = load_xachk(file_2d_coord,\"e1u\",xr_chunks2d)\n",
    "    return array_e1u\n",
    "\n",
    "def get_array3d_tgrid_xachk():\n",
    "    array_tgrid = load_xachk(file_3d_gridt,varname_3d,xr_chunks3d,it=0)\n",
    "    return array_tgrid\n",
    "\n",
    "def get_array3d_e1u_xachk():\n",
    "    array_e1u = load_xachk(file_3d_coord,\"e1u\",xr_chunks3d_nodep)\n",
    "    return array_e1u"
   ]
  },
  {
   "cell_type": "markdown",
   "metadata": {},
   "source": [
    "### Define the function that compute the x-derivative"
   ]
  },
  {
   "cell_type": "code",
   "execution_count": 12,
   "metadata": {
    "collapsed": false
   },
   "outputs": [],
   "source": [
    "#- Simple x-derivative function \n",
    "def derivative_np(array_tgrid,array_e1u):\n",
    "    return ( np.roll(array_tgrid,-1,axis=-1) - array_tgrid ) / array_e1u\n",
    "\n",
    "def derivative_da(array_tgrid,array_e1u):\n",
    "    # using map_overlap with ghosts, as described in http://dask.pydata.org/en/latest/ghost.html\n",
    "    di = lambda t: (np.roll(t,-1,axis=-1) - t) \n",
    "    depth = {-1: 1, -2: 0, -3:0}\n",
    "    d = array_tgrid.map_overlap(di,depth=depth,boundary=0)\n",
    "    return np.asarray(  (d / array_e1u ).compute() )\n",
    "\n",
    "def derivative_xa(array_tgrid,array_e1u):\n",
    "    return np.asarray((array_tgrid.shift(x=-1) - array_tgrid) / array_e1u)# caution xarr.roll()==xarr !!!\n",
    "\n",
    "def derivative_xa_as_da(array_tgrid,array_e1u):\n",
    "    return derivative_da(array_tgrid.data,array_e1u.data)"
   ]
  },
  {
   "cell_type": "markdown",
   "metadata": {},
   "source": [
    "### Profiling execution\n",
    "#### Profiling tools"
   ]
  },
  {
   "cell_type": "code",
   "execution_count": 13,
   "metadata": {
    "collapsed": true
   },
   "outputs": [],
   "source": [
    "@contextmanager\n",
    "def timeit_context(name):\n",
    "    startTime = time.time()\n",
    "    yield\n",
    "    elapsedTime = time.time() - startTime\n",
    "    print('{} takes {} ms'.format(name, int(elapsedTime * 1000))+'\\n')"
   ]
  },
  {
   "cell_type": "code",
   "execution_count": 14,
   "metadata": {
    "collapsed": false
   },
   "outputs": [],
   "source": [
    "def gradient_profile_context(func_get_array_gridt,func_get_array_e1u,compute_func): \n",
    "    \"Simple profiling function\"\n",
    "    with timeit_context('    loading tgrid array'):\n",
    "        array_tgrid = func_get_array_gridt()\n",
    "    with timeit_context('    loading e1u array'):\n",
    "        array_e1u  = func_get_array_e1u()\n",
    "    with timeit_context('computing x-derivative'):\n",
    "        gx = compute_func(array_tgrid, array_e1u)\n",
    "    print('The output array is a ' + str(type(gx)))"
   ]
  },
  {
   "cell_type": "markdown",
   "metadata": {},
   "source": [
    "#### Profiling experiments\n",
    "\n",
    "##### Tests in 2 dimensions"
   ]
  },
  {
   "cell_type": "code",
   "execution_count": 15,
   "metadata": {
    "collapsed": false
   },
   "outputs": [
    {
     "name": "stdout",
     "output_type": "stream",
     "text": [
      "loading from file NATL60-MJM155_y2008m01.1d_BUOYANCYFLX.nc\n",
      "    variable : vosigma0, returned shape : (3454, 5422)\n",
      "    loading tgrid array takes 251 ms\n",
      "\n",
      "loading from file NATL60_coordinates_v4.nc\n",
      "    variable : e1u, returned shape : (3454, 5422)\n",
      "    loading e1u array takes 219 ms\n",
      "\n",
      "computing x-derivative takes 765 ms\n",
      "\n",
      "The output array is a <class 'numpy.ma.core.MaskedArray'>\n"
     ]
    }
   ],
   "source": [
    "# numpy / numpy\n",
    "gradient_profile_context(get_array2d_tgrid_numpy,get_array2d_e1u_numpy,derivative_np)"
   ]
  },
  {
   "cell_type": "code",
   "execution_count": 16,
   "metadata": {
    "collapsed": false
   },
   "outputs": [
    {
     "name": "stdout",
     "output_type": "stream",
     "text": [
      "loading from file NATL60-MJM155_y2008m01.1d_BUOYANCYFLX.nc\n",
      "    variable : vosigma0, returned shape : (3454, 5422)\n",
      "    loading tgrid array takes 398 ms\n",
      "\n",
      "loading from file NATL60_coordinates_v4.nc\n",
      "    variable : e1u, returned shape : (3454, 5422)\n",
      "    loading e1u array takes 612 ms\n",
      "\n",
      "computing x-derivative takes 206 ms\n",
      "\n",
      "The output array is a <type 'numpy.ndarray'>\n"
     ]
    }
   ],
   "source": [
    "# dask (numpy with chunk) / dask (numpy with chunk) \n",
    "gradient_profile_context(get_array2d_tgrid_danpchk,get_array2d_e1u_danpchk,derivative_da)"
   ]
  },
  {
   "cell_type": "code",
   "execution_count": 17,
   "metadata": {
    "collapsed": false
   },
   "outputs": [
    {
     "name": "stdout",
     "output_type": "stream",
     "text": [
      "loading from file NATL60-MJM155_y2008m01.1d_BUOYANCYFLX.nc\n",
      "    variable : vosigma0, returned shape : (3454, 5422)\n",
      "    loading tgrid array takes 2 ms\n",
      "\n",
      "loading from file NATL60_coordinates_v4.nc\n",
      "    variable : e1u, returned shape : (3454, 5422)\n",
      "    loading e1u array takes 0 ms\n",
      "\n",
      "computing x-derivative takes 878 ms\n",
      "\n",
      "The output array is a <type 'numpy.ndarray'>\n"
     ]
    }
   ],
   "source": [
    "# dask (netcdf with chunk) / dask (netcdf with chunk) \n",
    "gradient_profile_context(get_array2d_tgrid_dachk,get_array2d_e1u_dachk,derivative_da)"
   ]
  },
  {
   "cell_type": "code",
   "execution_count": 18,
   "metadata": {
    "collapsed": false
   },
   "outputs": [
    {
     "name": "stdout",
     "output_type": "stream",
     "text": [
      "loading from file NATL60-MJM155_y2008m01.1d_BUOYANCYFLX.nc\n",
      "    variable : vosigma0, returned shape : (3454, 5422)\n",
      "    loading tgrid array takes 1 ms\n",
      "\n",
      "loading from file NATL60_coordinates_v4.nc\n",
      "    variable : e1u, returned shape : (3454, 5422)\n",
      "    loading e1u array takes 647 ms\n",
      "\n",
      "computing x-derivative takes 635 ms\n",
      "\n",
      "The output array is a <type 'numpy.ndarray'>\n"
     ]
    }
   ],
   "source": [
    "# dask (netcdf with chunk) / dask (numpy with chunk) \n",
    "gradient_profile_context(get_array2d_tgrid_dachk,get_array2d_e1u_danpchk,derivative_da)"
   ]
  },
  {
   "cell_type": "code",
   "execution_count": 19,
   "metadata": {
    "collapsed": false
   },
   "outputs": [
    {
     "name": "stdout",
     "output_type": "stream",
     "text": [
      "loading from file NATL60-MJM155_y2008m01.1d_BUOYANCYFLX.nc\n",
      "    variable : vosigma0, returned shape : (3454, 5422)\n",
      "    loading tgrid array takes 17 ms\n",
      "\n",
      "loading from file NATL60_coordinates_v4.nc\n",
      "    variable : e1u, returned shape : (3454, 5422)\n",
      "    loading e1u array takes 13 ms\n",
      "\n",
      "computing x-derivative takes 32261 ms\n",
      "\n",
      "The output array is a <type 'numpy.ndarray'>\n"
     ]
    }
   ],
   "source": [
    "# xarray (with chunk) / xarray (with chunk) \n",
    "gradient_profile_context(get_array2d_tgrid_xachk,get_array2d_e1u_xachk,derivative_xa)"
   ]
  },
  {
   "cell_type": "markdown",
   "metadata": {},
   "source": [
    "**observation #1** :  xarray with chunks is x50 slower that dask arrays in this example. "
   ]
  },
  {
   "cell_type": "code",
   "execution_count": 20,
   "metadata": {
    "collapsed": false
   },
   "outputs": [
    {
     "name": "stdout",
     "output_type": "stream",
     "text": [
      "loading from file NATL60-MJM155_y2008m01.1d_BUOYANCYFLX.nc\n",
      "    variable : vosigma0, returned shape : (3454, 5422)\n",
      "    loading tgrid array takes 13 ms\n",
      "\n",
      "loading from file NATL60_coordinates_v4.nc\n",
      "    variable : e1u, returned shape : (3454, 5422)\n",
      "    loading e1u array takes 10 ms\n",
      "\n",
      "computing x-derivative takes 151475 ms\n",
      "\n",
      "The output array is a <type 'numpy.ndarray'>\n"
     ]
    }
   ],
   "source": [
    "# xarray (with chunk) / xarray (with chunk) (derivative as for dask array)\n",
    "gradient_profile_context(get_array2d_tgrid_xachk,get_array2d_e1u_xachk,derivative_xa_as_da)"
   ]
  },
  {
   "cell_type": "markdown",
   "metadata": {},
   "source": [
    "**observation #2** :  if we compute the derivative with xarray.data with the same method than for dask array, the execution time is even slower (x200)"
   ]
  },
  {
   "cell_type": "markdown",
   "metadata": {},
   "source": [
    "##### Tests in 3 dimensions"
   ]
  },
  {
   "cell_type": "code",
   "execution_count": 21,
   "metadata": {
    "collapsed": false
   },
   "outputs": [
    {
     "name": "stdout",
     "output_type": "stream",
     "text": [
      "loading from file NATL60LMX-MJM155_y2008m03d15.1d_gridT.nc\n",
      "    variable : votemper, returned shape : (300, 756, 1032)\n",
      "    loading tgrid array takes 3027 ms\n",
      "\n",
      "loading from file NATL60LMX_coordinates_v4.nc\n",
      "    variable : e1u, returned shape : (756, 1032)\n",
      "    loading e1u array takes 17 ms\n",
      "\n",
      "computing x-derivative takes 9755 ms\n",
      "\n",
      "The output array is a <class 'numpy.ma.core.MaskedArray'>\n"
     ]
    }
   ],
   "source": [
    "# numpy / numpy\n",
    "gradient_profile_context(get_array3d_tgrid_numpy,get_array3d_e1u_numpy,derivative_np)"
   ]
  },
  {
   "cell_type": "code",
   "execution_count": 22,
   "metadata": {
    "collapsed": false
   },
   "outputs": [
    {
     "name": "stdout",
     "output_type": "stream",
     "text": [
      "loading from file NATL60LMX-MJM155_y2008m03d15.1d_gridT.nc\n",
      "    variable : votemper, returned shape : (300, 756, 1032)\n",
      "    loading tgrid array takes 5265 ms\n",
      "\n",
      "loading from file NATL60LMX_coordinates_v4.nc\n",
      "    variable : e1u, returned shape : (756, 1032)\n",
      "    loading e1u array takes 28 ms\n",
      "\n",
      "computing x-derivative takes 4329 ms\n",
      "\n",
      "The output array is a <type 'numpy.ndarray'>\n"
     ]
    }
   ],
   "source": [
    "# dask (numpy with chunk) / dask (numpy with chunk) \n",
    "gradient_profile_context(get_array3d_tgrid_danpchk,get_array3d_e1u_danpchk,derivative_da)"
   ]
  },
  {
   "cell_type": "code",
   "execution_count": 23,
   "metadata": {
    "collapsed": false
   },
   "outputs": [
    {
     "name": "stdout",
     "output_type": "stream",
     "text": [
      "loading from file NATL60LMX-MJM155_y2008m03d15.1d_gridT.nc\n",
      "    variable : votemper, returned shape : (300, 756, 1032)\n",
      "    loading tgrid array takes 4 ms\n",
      "\n",
      "loading from file NATL60LMX_coordinates_v4.nc\n",
      "    variable : e1u, returned shape : (756, 1032)\n",
      "    loading e1u array takes 1 ms\n",
      "\n",
      "computing x-derivative takes 7877 ms\n",
      "\n",
      "The output array is a <type 'numpy.ndarray'>\n"
     ]
    }
   ],
   "source": [
    "# dask (netcdf with chunk) / dask (netcdf with chunk) \n",
    "gradient_profile_context(get_array3d_tgrid_dachk,get_array3d_e1u_dachk,derivative_da)"
   ]
  },
  {
   "cell_type": "code",
   "execution_count": 24,
   "metadata": {
    "collapsed": false
   },
   "outputs": [
    {
     "name": "stdout",
     "output_type": "stream",
     "text": [
      "loading from file NATL60LMX-MJM155_y2008m03d15.1d_gridT.nc\n",
      "    variable : votemper, returned shape : (300, 756, 1032)\n",
      "    loading tgrid array takes 2 ms\n",
      "\n",
      "loading from file NATL60LMX_coordinates_v4.nc\n",
      "    variable : e1u, returned shape : (756, 1032)\n",
      "    loading e1u array takes 29 ms\n",
      "\n",
      "computing x-derivative takes 7042 ms\n",
      "\n",
      "The output array is a <type 'numpy.ndarray'>\n"
     ]
    }
   ],
   "source": [
    "# dask (netcdf with chunk) / dask (numpy with chunk) \n",
    "gradient_profile_context(get_array3d_tgrid_dachk,get_array3d_e1u_danpchk,derivative_da)"
   ]
  },
  {
   "cell_type": "code",
   "execution_count": 25,
   "metadata": {
    "collapsed": false
   },
   "outputs": [
    {
     "name": "stdout",
     "output_type": "stream",
     "text": [
      "loading from file NATL60LMX-MJM155_y2008m03d15.1d_gridT.nc\n",
      "    variable : votemper, returned shape : (300, 756, 1032)\n",
      "    loading tgrid array takes 25 ms\n",
      "\n",
      "loading from file NATL60LMX_coordinates_v4.nc\n",
      "    variable : e1u, returned shape : (756, 1032)\n",
      "    loading e1u array takes 14 ms\n",
      "\n",
      "computing x-derivative takes 6383 ms\n",
      "\n",
      "The output array is a <type 'numpy.ndarray'>\n"
     ]
    }
   ],
   "source": [
    "# xarray (with chunk) / xarray (with chunk) \n",
    "gradient_profile_context(get_array3d_tgrid_xachk,get_array3d_e1u_xachk,derivative_xa)"
   ]
  },
  {
   "cell_type": "code",
   "execution_count": 26,
   "metadata": {
    "collapsed": false
   },
   "outputs": [
    {
     "name": "stdout",
     "output_type": "stream",
     "text": [
      "loading from file NATL60LMX-MJM155_y2008m03d15.1d_gridT.nc\n",
      "    variable : votemper, returned shape : (300, 756, 1032)\n",
      "    loading tgrid array takes 19 ms\n",
      "\n",
      "loading from file NATL60LMX_coordinates_v4.nc\n",
      "    variable : e1u, returned shape : (756, 1032)\n",
      "    loading e1u array takes 19 ms\n",
      "\n",
      "computing x-derivative takes 8596 ms\n",
      "\n",
      "The output array is a <type 'numpy.ndarray'>\n"
     ]
    }
   ],
   "source": [
    "# xarray (with chunk) / xarray (with chunk) (derivative as for dask array)\n",
    "gradient_profile_context(get_array3d_tgrid_xachk,get_array3d_e1u_xachk,derivative_xa_as_da)"
   ]
  },
  {
   "cell_type": "markdown",
   "metadata": {},
   "source": [
    "**observation #3 : ** For 3D arrays, we recover performances comparible to dask array with xarray. "
   ]
  }
 ],
 "metadata": {
  "kernelspec": {
   "display_name": "Python 2",
   "language": "python",
   "name": "python2"
  },
  "language_info": {
   "codemirror_mode": {
    "name": "ipython",
    "version": 2
   },
   "file_extension": ".py",
   "mimetype": "text/x-python",
   "name": "python",
   "nbconvert_exporter": "python",
   "pygments_lexer": "ipython2",
   "version": "2.7.11"
  },
  "widgets": {
   "state": {},
   "version": "1.1.2"
  }
 },
 "nbformat": 4,
 "nbformat_minor": 0
}
