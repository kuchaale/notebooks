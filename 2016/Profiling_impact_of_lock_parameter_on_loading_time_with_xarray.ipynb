{
 "cells": [
  {
   "cell_type": "markdown",
   "metadata": {},
   "source": [
    "# Impact of lock parameter on loading time with xarray"
   ]
  },
  {
   "cell_type": "markdown",
   "metadata": {},
   "source": [
    "### Author \n",
    " - Julien Le Sommer, CNRS\n",
    "\n",
    "### Context\n",
    " - following the analysis published [in this first notebook](https://github.com/lesommer/notebooks/blob/master/Profiling_simple_derivative_computation_with_numpy_vs_dask_vs_xarray.ipynb) and and and [this second notebook](https://github.com/lesommer/notebooks/blob/master/More_profiling_of_dask_vs_xarray.ipynb) and solved in [this third notebook](https://github.com/lesommer/notebooks/blob/master/Profiling_derivatives_with_dask_and_xarray_end_of_the_story.ipynb), as discussed in this [thread](https://groups.google.com/forum/#!topic/xarray/TOX5BIc08WA)\n",
    " \n",
    "### Purpose\n",
    " - illustrate the impact of lock parameter on loading time with xarray\n"
   ]
  },
  {
   "cell_type": "markdown",
   "metadata": {},
   "source": [
    "## Imported modules "
   ]
  },
  {
   "cell_type": "code",
   "execution_count": 1,
   "metadata": {
    "collapsed": true
   },
   "outputs": [],
   "source": [
    "#- import\n",
    "import numpy as np\n",
    "from netCDF4 import Dataset\n",
    "import dask.array as da\n",
    "import xarray as xr"
   ]
  },
  {
   "cell_type": "code",
   "execution_count": 2,
   "metadata": {
    "collapsed": false
   },
   "outputs": [
    {
     "name": "stdout",
     "output_type": "stream",
     "text": [
      "dask version : 0.8.1\n",
      "xarray version : 0.7.2\n"
     ]
    }
   ],
   "source": [
    "#- print versions\n",
    "import dask \n",
    "print('dask version : ' + dask.__version__)\n",
    "print('xarray version : ' + xr.__version__)"
   ]
  },
  {
   "cell_type": "markdown",
   "metadata": {},
   "source": [
    "## Files, chunks and array definition methods"
   ]
  },
  {
   "cell_type": "code",
   "execution_count": 3,
   "metadata": {
    "collapsed": true
   },
   "outputs": [],
   "source": [
    "#- Medium size 2D dataset from NATL60 \n",
    "#  array shape is (1,3454,5422)\n",
    "file_2d_gridt = \"/Users/lesommer/data/NATL60/NATL60-MJM155-S/1d/2008/NATL60-MJM155_y2008m01.1d_BUOYANCYFLX.nc\"\n",
    "varname_2d = \"vosigma0\"\n",
    "\n",
    "# chunks\n",
    "chunks2d = (1727,2711)\n",
    "xr_chunks2d = {'x': chunks2d[-1], 'y': chunks2d[-2]}"
   ]
  },
  {
   "cell_type": "code",
   "execution_count": 4,
   "metadata": {
    "collapsed": true
   },
   "outputs": [],
   "source": [
    "#- dask from netcdf :  dachk\n",
    "def load_dachk(filename,varname,chunks,it=0.):\n",
    "    d = Dataset(filename).variables[varname]\n",
    "    array = da.from_array(d, chunks=(1,)+ chunks)[it]\n",
    "    return array \n",
    "\n",
    "#- xarray with chunks :  xachk\n",
    "def load_xachk(filename,varname,xr_chunks,it=None,decode_cf=True,engine='netcdf4',lock=False):\n",
    "    ds = xr.open_dataset(filename,chunks=xr_chunks,decode_cf=decode_cf,engine=engine,lock=lock)\n",
    "    if it is None:\n",
    "       array = ds.variables[varname]\n",
    "    else:\n",
    "       array = ds.variables[varname][it]\n",
    "    return array.chunk()"
   ]
  },
  {
   "cell_type": "markdown",
   "metadata": {},
   "source": [
    "## Native dask array"
   ]
  },
  {
   "cell_type": "code",
   "execution_count": 5,
   "metadata": {
    "collapsed": false
   },
   "outputs": [
    {
     "data": {
      "text/plain": [
       "dask.array<getitem..., shape=(3454, 5422), dtype=float32, chunksize=(1727, 2711)>"
      ]
     },
     "execution_count": 5,
     "metadata": {},
     "output_type": "execute_result"
    }
   ],
   "source": [
    "dda = load_dachk(file_2d_gridt,varname_2d,chunks2d,it=0)\n",
    "dda"
   ]
  },
  {
   "cell_type": "code",
   "execution_count": 6,
   "metadata": {
    "collapsed": false
   },
   "outputs": [
    {
     "name": "stdout",
     "output_type": "stream",
     "text": [
      "1000 loops, best of 3: 1.38 ms per loop\n"
     ]
    },
    {
     "data": {
      "text/plain": [
       "array(26.201061248779297, dtype=float32)"
      ]
     },
     "execution_count": 6,
     "metadata": {},
     "output_type": "execute_result"
    }
   ],
   "source": [
    "%timeit va = np.asarray(dda[1000,1000])\n",
    "np.asarray(dda[1000,1000])"
   ]
  },
  {
   "cell_type": "markdown",
   "metadata": {},
   "source": [
    "## xarray dask array (lock=True)"
   ]
  },
  {
   "cell_type": "code",
   "execution_count": 7,
   "metadata": {
    "collapsed": false
   },
   "outputs": [
    {
     "data": {
      "text/plain": [
       "dask.array<getitem..., shape=(3454, 5422), dtype=float64, chunksize=(1727, 2711)>"
      ]
     },
     "execution_count": 7,
     "metadata": {},
     "output_type": "execute_result"
    }
   ],
   "source": [
    "ddx = load_xachk(file_2d_gridt,varname_2d,xr_chunks2d,it=0,lock=True).data\n",
    "ddx"
   ]
  },
  {
   "cell_type": "code",
   "execution_count": 8,
   "metadata": {
    "collapsed": false
   },
   "outputs": [
    {
     "name": "stdout",
     "output_type": "stream",
     "text": [
      "1 loop, best of 3: 1.87 s per loop\n"
     ]
    },
    {
     "data": {
      "text/plain": [
       "array(26.201061248779297)"
      ]
     },
     "execution_count": 8,
     "metadata": {},
     "output_type": "execute_result"
    }
   ],
   "source": [
    "%timeit vx = np.asarray(ddx[1000,1000])\n",
    "np.asarray(ddx[1000,1000])"
   ]
  },
  {
   "cell_type": "markdown",
   "metadata": {},
   "source": [
    "## xarray dask array (lock=False)"
   ]
  },
  {
   "cell_type": "code",
   "execution_count": 9,
   "metadata": {
    "collapsed": false
   },
   "outputs": [
    {
     "data": {
      "text/plain": [
       "dask.array<getitem..., shape=(3454, 5422), dtype=float64, chunksize=(1727, 2711)>"
      ]
     },
     "execution_count": 9,
     "metadata": {},
     "output_type": "execute_result"
    }
   ],
   "source": [
    "ddx = load_xachk(file_2d_gridt,varname_2d,xr_chunks2d,it=0,lock=False).data\n",
    "ddx"
   ]
  },
  {
   "cell_type": "code",
   "execution_count": 10,
   "metadata": {
    "collapsed": false
   },
   "outputs": [
    {
     "name": "stdout",
     "output_type": "stream",
     "text": [
      "1000 loops, best of 3: 1.46 ms per loop\n"
     ]
    },
    {
     "data": {
      "text/plain": [
       "array(26.201061248779297)"
      ]
     },
     "execution_count": 10,
     "metadata": {},
     "output_type": "execute_result"
    }
   ],
   "source": [
    "%timeit vx = np.asarray(ddx[1000,1000])\n",
    "np.asarray(ddx[1000,1000])"
   ]
  },
  {
   "cell_type": "markdown",
   "metadata": {},
   "source": [
    "**conclusion** : in this particular example, lock=True slows down loading a value by a factor 1000..."
   ]
  },
  {
   "cell_type": "code",
   "execution_count": null,
   "metadata": {
    "collapsed": true
   },
   "outputs": [],
   "source": []
  }
 ],
 "metadata": {
  "kernelspec": {
   "display_name": "Python 2",
   "language": "python",
   "name": "python2"
  },
  "language_info": {
   "codemirror_mode": {
    "name": "ipython",
    "version": 2
   },
   "file_extension": ".py",
   "mimetype": "text/x-python",
   "name": "python",
   "nbconvert_exporter": "python",
   "pygments_lexer": "ipython2",
   "version": "2.7.3"
  }
 },
 "nbformat": 4,
 "nbformat_minor": 0
}
